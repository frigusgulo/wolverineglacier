{
 "cells": [
  {
   "cell_type": "code",
   "execution_count": 1,
   "metadata": {},
   "outputs": [],
   "source": [
    "import glimpse\n",
    "from glimpse.imports import datetime,np,os\n",
    "import glob\n",
    "from PIL import Image\n",
    "from PIL.ExifTags import TAGS\n",
    "import numpy as np\n",
    "import matplotlib.pyplot as plt\n",
    "import os"
   ]
  },
  {
   "cell_type": "markdown",
   "metadata": {},
   "source": [
    "# LINK TO DROPBOX\n",
    "https://www.dropbox.com/sh/iqhd68g9shvroic/AABadr95uv0w0jSNry6zd5c-a?dl=0"
   ]
  },
  {
   "cell_type": "markdown",
   "metadata": {},
   "source": [
    "First, we will define the camera model. We can get the intrinsic parameters using image meta-data, and the extrinsic parameters from surveyed gps data for the camera's location and an initial guess at the camera's view orientation that we can refine later."
   ]
  },
  {
   "cell_type": "code",
   "execution_count": null,
   "metadata": {},
   "outputs": [],
   "source": [
    "'''\n",
    "exifinfo = {}\n",
    "img_path = '/home/dunbar/Research/wolverine/data/cam_cliff/images/cam_cliff_0497.JPG'\n",
    "image = Image.open(img_path)\n",
    "exif_info = image._getexif()\n",
    "for (tag,value) in exif_info.items():\n",
    "    tagname = TAGS.get(tag,tag)\n",
    "    exifinfo[tagname] = value\n",
    "'''"
   ]
  },
  {
   "cell_type": "markdown",
   "metadata": {},
   "source": [
    "For the purposes of GLIMPSE, we will need the following from the dictionary defined above: Image Dimensions (pixels), Focal Length (mm), Sensor Dimensions (mm), and Date (datetime format).\n",
    "We can typically get all but the Sensor Dimensions from the images themselves. In this case I had to look it up."
   ]
  },
  {
   "cell_type": "code",
   "execution_count": null,
   "metadata": {},
   "outputs": [],
   "source": [
    "'''\n",
    "image_focal = (exifinfo['FocalLength'][0]/exifinfo['FocalLength'][1])\n",
    "imagewidth = int(exifinfo['ExifImageWidth'])\n",
    "imageheight = int(exifinfo['ExifImageHeight'])\n",
    "image_date = exifinfo['DateTime']\n",
    "'''\n",
    "sensorx,sensory = 35.9,24"
   ]
  },
  {
   "cell_type": "code",
   "execution_count": 2,
   "metadata": {},
   "outputs": [],
   "source": [
    "params= dict(\n",
    "  sensorsz=(35.9, 24),\n",
    "  xyz=(393506.713, 6695855.64, 961.3370),\n",
    "  viewdir=(6.55401513e+01, -1.95787507e+01,  7.90589866e+00),\n",
    "  p=(1.42603100e-01,4.12163305e-01),\n",
    "  k=(-4.78577912e-01,  1.08772049e+00, -1.27452460e+00,6.78479918e-01,  2.39852156e-02, -1.229e-01),\n",
    "  imgsz=(7360, 4912),\n",
    "  fmm=28\n",
    ")"
   ]
  },
  {
   "cell_type": "code",
   "execution_count": 3,
   "metadata": {},
   "outputs": [],
   "source": [
    "cliff_camera = glimpse.Camera(**params)"
   ]
  },
  {
   "cell_type": "code",
   "execution_count": 5,
   "metadata": {},
   "outputs": [
    {
     "data": {
      "text/plain": [
       "{'xyz': [393506.713, 6695855.64, 961.337],\n",
       " 'viewdir': [65.5401513, -19.5787507, 7.90589866],\n",
       " 'imgsz': [7360.0, 4912.0],\n",
       " 'f': [5740.389972144847, 5730.666666666667],\n",
       " 'c': [0.0, 0.0],\n",
       " 'k': [-0.478577912,\n",
       "  1.08772049,\n",
       "  -1.2745246,\n",
       "  0.678479918,\n",
       "  0.0239852156,\n",
       "  -0.1229],\n",
       " 'p': [0.1426031, 0.412163305]}"
      ]
     },
     "execution_count": 5,
     "metadata": {},
     "output_type": "execute_result"
    }
   ],
   "source": [
    "cliff_camera.as_dict()"
   ]
  },
  {
   "cell_type": "markdown",
   "metadata": {},
   "source": [
    "Now that we have our camera model defined, we can \"fine tune\" it's parameters using Glimpse's optimize module. For this, we need real world coordinate to image coordinate coorespondances in respective arrays."
   ]
  },
  {
   "cell_type": "code",
   "execution_count": null,
   "metadata": {},
   "outputs": [],
   "source": [
    "cliff_imgpts = np.array([[5193, 549],[3101, 642],[6153.0, 2297.0]])\n",
    "cliff_worldpts = np.array([[408245.86,6695847.03,1560 ],[416067.22,6707259.97,988],[394569.509, 6695550.678, 621.075]])\n",
    "\n",
    "cliff_points = glimpse.optimize.Points(cliff_camera,cliff_imgpts,cliff_worldpts)\n",
    "cliff_points.plot()"
   ]
  },
  {
   "cell_type": "code",
   "execution_count": null,
   "metadata": {},
   "outputs": [],
   "source": [
    "cliffparams = glimpse.optimize.Cameras([cliff_camera],[cliff_points],dict(viewdir=True,p=True,k=True))\n",
    "cliffparams = cliffparams.fit()"
   ]
  },
  {
   "cell_type": "code",
   "execution_count": null,
   "metadata": {},
   "outputs": [],
   "source": [
    "cliffparams"
   ]
  },
  {
   "cell_type": "code",
   "execution_count": null,
   "metadata": {},
   "outputs": [],
   "source": [
    "params= dict(\n",
    "  sensorsz=(35.9, 24),\n",
    "  xyz=(393506.713, 6695855.64, 961.3370),\n",
    "  viewdir=(6.55401513e+01, -1.95787507e+01,  7.90589866e+00),\n",
    "  p=(1.42603100e-01,4.12163305e-01),\n",
    "  k=(-4.78577912e-01,  1.08772049e+00, -1.27452460e+00,6.78479918e-01,  2.39852156e-02, -1.229e-01),\n",
    "  imgsz=(7360, 4912),\n",
    "  fmm=28\n",
    ")"
   ]
  },
  {
   "cell_type": "code",
   "execution_count": null,
   "metadata": {},
   "outputs": [],
   "source": [
    "cliff_camera2 = glimpse.Camera(**params)"
   ]
  },
  {
   "cell_type": "code",
   "execution_count": null,
   "metadata": {},
   "outputs": [],
   "source": [
    "cliff_camera2.as_dict()"
   ]
  },
  {
   "cell_type": "markdown",
   "metadata": {},
   "source": [
    "Now that there is  a reasonably defined camera model, we can create an observer object which holds the images on which GLIMPSE will perform feature tracking. "
   ]
  },
  {
   "cell_type": "code",
   "execution_count": null,
   "metadata": {},
   "outputs": [],
   "source": [
    "img_path = '/home/dunbar/Research/wolverine/data/cam_cliff/images'\n",
    "images = glob.glob(os.path.join(img_path,'*.JPG'),recursive=True)\n",
    "images = [glimpse.Image(path=imagepath,cam=cliff_camera.copy()) for imagepath in images]\n",
    "images.sort(key= lambda img: img.datetime ) # sort by datetime\n",
    "images = images[::4]"
   ]
  },
  {
   "cell_type": "code",
   "execution_count": null,
   "metadata": {},
   "outputs": [],
   "source": [
    "temp = images[0].cam.as_dict()"
   ]
  },
  {
   "cell_type": "code",
   "execution_count": null,
   "metadata": {},
   "outputs": [],
   "source": [
    "print(temp)"
   ]
  },
  {
   "cell_type": "code",
   "execution_count": null,
   "metadata": {},
   "outputs": [],
   "source": [
    "def save_observercams(observer,directory,print_path=False):\n",
    "    if not os.path.isdir(directory):\n",
    "        raise Exception(\"Directory {} Not Found\".format(directory))\n",
    "    for images in observer.images:\n",
    "        filename = images.path.split(\"/\")[-1]\n",
    "        filename = filename.split(\".\")[0]\n",
    "        path = os.path.join(directory,filename)\n",
    "        path += \".JSON\"\n",
    "        if print_path: print(\"Path: {}\\n\".format(path))\n",
    "        try:\n",
    "            images.cam.write(path)\n",
    "        except:\n",
    "            print(\"Image {} Has Undefined Camera\".format(image.path))\n"
   ]
  },
  {
   "cell_type": "code",
   "execution_count": null,
   "metadata": {},
   "outputs": [],
   "source": [
    "cliffobserver = glimpse.Observer(images)"
   ]
  },
  {
   "cell_type": "code",
   "execution_count": null,
   "metadata": {},
   "outputs": [],
   "source": [
    "cliffdir = '/home/dunbar/Research/wolverine/data/cam_cliff/images_json'"
   ]
  },
  {
   "cell_type": "code",
   "execution_count": null,
   "metadata": {},
   "outputs": [],
   "source": [
    "save_observercams(cliffobserver,cliffdir)"
   ]
  },
  {
   "cell_type": "markdown",
   "metadata": {},
   "source": [
    "With our observer in good shape, we can now proceed to prepare the DEM"
   ]
  },
  {
   "cell_type": "code",
   "execution_count": null,
   "metadata": {},
   "outputs": [],
   "source": [
    "dem_path = '/home/dunbar/Research/wolverine/data/dem/wolverine_skyline32606.tif'\n",
    "dem = glimpse.Raster.read(dem_path,d=4)\n",
    "dem.crop(zlim=(0,np.inf))\n",
    "dem.fill_crevasses(mask=~np.isnan(dem.Z), fill=True)\n",
    "dem.fill_circle(cliffobserver.xyz,radius=100)"
   ]
  },
  {
   "cell_type": "code",
   "execution_count": null,
   "metadata": {},
   "outputs": [],
   "source": [
    "viewshed = dem.copy()\n",
    "viewshed.Z = np.ones(dem.shape, dtype=bool)\n",
    "viewshed.Z &= dem.viewshed(cliffobserver.xyz)"
   ]
  },
  {
   "cell_type": "code",
   "execution_count": null,
   "metadata": {},
   "outputs": [],
   "source": [
    "import itertools\n",
    "xy0= np.array((394368,6696220))\n",
    "xy = xy0 + np.vstack([xy for xy in\n",
    "    itertools.product(range(-200, 200, 50), range(-200, 200, 50))])\n",
    "\n",
    "motion_model = []\n",
    "time_unit = datetime.timedelta(days=.5)\n",
    "\n",
    "for i in range(xy.shape[0]):\n",
    "    motion_model.append(glimpse.CartesianMotionModel(\n",
    "        xy[i,:], time_unit=time_unit, dem=dem, dem_sigma=3, n=5000, xy_sigma=(2, 2),\n",
    "        vxyz_sigma=(5, 5, 0.2), axyz_sigma=(2, 2, 0.2)))"
   ]
  },
  {
   "cell_type": "code",
   "execution_count": null,
   "metadata": {},
   "outputs": [],
   "source": [
    "tracker = glimpse.Tracker(observers=[cliffobserver], viewshed=viewshed)"
   ]
  },
  {
   "cell_type": "code",
   "execution_count": null,
   "metadata": {},
   "outputs": [],
   "source": [
    "tracks = tracker.track(motion_models=motion_model, tile_size=(10, 10),parallel=26)"
   ]
  },
  {
   "cell_type": "code",
   "execution_count": null,
   "metadata": {},
   "outputs": [],
   "source": [
    "tracks.plot_xy(start=dict(color='green'), mean=dict(color='red'), sigma=dict(alpha=0.25))"
   ]
  },
  {
   "cell_type": "code",
   "execution_count": null,
   "metadata": {},
   "outputs": [],
   "source": []
  }
 ],
 "metadata": {
  "kernelspec": {
   "display_name": "Python 3",
   "language": "python",
   "name": "python3"
  },
  "language_info": {
   "codemirror_mode": {
    "name": "ipython",
    "version": 3
   },
   "file_extension": ".py",
   "mimetype": "text/x-python",
   "name": "python",
   "nbconvert_exporter": "python",
   "pygments_lexer": "ipython3",
   "version": "3.7.3"
  }
 },
 "nbformat": 4,
 "nbformat_minor": 2
}
